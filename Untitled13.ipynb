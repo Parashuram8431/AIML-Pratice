{
 "cells": [
  {
   "cell_type": "code",
   "execution_count": 2,
   "id": "e12b2bf3-3cc2-4142-8c91-464af9f4043e",
   "metadata": {},
   "outputs": [
    {
     "name": "stdout",
     "output_type": "stream",
     "text": [
      "   ID    Name Gender  Age  Study_Hours  Attendance(%)  Marks_Math  \\\n",
      "0   1    riya      f   17          3.5             95          88   \n",
      "1   2   Arjun      m   18          2.0             82          75   \n",
      "2   3   Shena      f   17          4.0             98          90   \n",
      "3   4  Rakesh      m   19          1.5             70          65   \n",
      "4   5   Aditi      f   18          3.8             92          95   \n",
      "5   6   Kiran      m   18          2.5             85          78   \n",
      "6   7  Anjali      f   17          4.2             99          91   \n",
      "7   8  manish      m   19          1.0             65          60   \n",
      "\n",
      "   Marks_Science Grade  \n",
      "0             92     A  \n",
      "1             80     B  \n",
      "2             89     A  \n",
      "3             68     C  \n",
      "4             93     A  \n",
      "5             75     B  \n",
      "6             95     A  \n",
      "7             58     D  \n"
     ]
    }
   ],
   "source": [
    "import matplotlib.pyplot as plt\n",
    "import numpy as np\n",
    "import pandas as pd\n",
    "\n",
    "data={\n",
    "    \"ID\":[1,2,3,4,5,6,7,8],\n",
    "    \"Name\":[\"riya\",\"Arjun\",\"Shena\",\"Rakesh\",\"Aditi\",\"Kiran\",\"Anjali\",\"manish\"],\n",
    "    \"Gender\":[\"f\",\"m\",\"f\",\"m\",\"f\",\"m\",\"f\",\"m\"],\n",
    "    \"Age\":[17,18,17,19,18,18,17,19],\n",
    "    \"Study_Hours\":[3.5,2.0,4.0,1.5,3.8,2.5,4.2,1.0],\n",
    "    \"Attendance(%)\":[95,82,98,70,92,85,99,65],\n",
    "    \"Marks_Math\":[88,75,90,65,95,78,91,60],\n",
    "    \"Marks_Science\":[92,80,89,68,93,75,95,58],\n",
    "    \"Grade\":[\"A\",\"B\",\"A\",\"C\",\"A\",\"B\",\"A\",\"D\"]\n",
    "}\n",
    "df=pd.DataFrame(data)\n",
    "print(df)"
   ]
  },
  {
   "cell_type": "code",
   "execution_count": 3,
   "id": "9d047e41-aebe-41ca-b2ab-47ed436c9872",
   "metadata": {},
   "outputs": [
    {
     "data": {
      "text/plain": [
       "ID               0\n",
       "Name             0\n",
       "Gender           0\n",
       "Age              0\n",
       "Study_Hours      0\n",
       "Attendance(%)    0\n",
       "Marks_Math       0\n",
       "Marks_Science    0\n",
       "Grade            0\n",
       "dtype: int64"
      ]
     },
     "execution_count": 3,
     "metadata": {},
     "output_type": "execute_result"
    }
   ],
   "source": [
    "df.isnull().sum()"
   ]
  },
  {
   "cell_type": "code",
   "execution_count": 4,
   "id": "e25f2a7f-5ff4-4139-9ff6-23c72be57791",
   "metadata": {},
   "outputs": [
    {
     "data": {
      "text/html": [
       "<div>\n",
       "<style scoped>\n",
       "    .dataframe tbody tr th:only-of-type {\n",
       "        vertical-align: middle;\n",
       "    }\n",
       "\n",
       "    .dataframe tbody tr th {\n",
       "        vertical-align: top;\n",
       "    }\n",
       "\n",
       "    .dataframe thead th {\n",
       "        text-align: right;\n",
       "    }\n",
       "</style>\n",
       "<table border=\"1\" class=\"dataframe\">\n",
       "  <thead>\n",
       "    <tr style=\"text-align: right;\">\n",
       "      <th></th>\n",
       "      <th>ID</th>\n",
       "      <th>Age</th>\n",
       "      <th>Study_Hours</th>\n",
       "      <th>Attendance(%)</th>\n",
       "      <th>Marks_Math</th>\n",
       "      <th>Marks_Science</th>\n",
       "    </tr>\n",
       "  </thead>\n",
       "  <tbody>\n",
       "    <tr>\n",
       "      <th>count</th>\n",
       "      <td>8.00000</td>\n",
       "      <td>8.000000</td>\n",
       "      <td>8.000000</td>\n",
       "      <td>8.000000</td>\n",
       "      <td>8.000000</td>\n",
       "      <td>8.000000</td>\n",
       "    </tr>\n",
       "    <tr>\n",
       "      <th>mean</th>\n",
       "      <td>4.50000</td>\n",
       "      <td>17.875000</td>\n",
       "      <td>2.812500</td>\n",
       "      <td>85.750000</td>\n",
       "      <td>80.250000</td>\n",
       "      <td>81.250000</td>\n",
       "    </tr>\n",
       "    <tr>\n",
       "      <th>std</th>\n",
       "      <td>2.44949</td>\n",
       "      <td>0.834523</td>\n",
       "      <td>1.227585</td>\n",
       "      <td>12.781124</td>\n",
       "      <td>12.892412</td>\n",
       "      <td>13.413746</td>\n",
       "    </tr>\n",
       "    <tr>\n",
       "      <th>min</th>\n",
       "      <td>1.00000</td>\n",
       "      <td>17.000000</td>\n",
       "      <td>1.000000</td>\n",
       "      <td>65.000000</td>\n",
       "      <td>60.000000</td>\n",
       "      <td>58.000000</td>\n",
       "    </tr>\n",
       "    <tr>\n",
       "      <th>25%</th>\n",
       "      <td>2.75000</td>\n",
       "      <td>17.000000</td>\n",
       "      <td>1.875000</td>\n",
       "      <td>79.000000</td>\n",
       "      <td>72.500000</td>\n",
       "      <td>73.250000</td>\n",
       "    </tr>\n",
       "    <tr>\n",
       "      <th>50%</th>\n",
       "      <td>4.50000</td>\n",
       "      <td>18.000000</td>\n",
       "      <td>3.000000</td>\n",
       "      <td>88.500000</td>\n",
       "      <td>83.000000</td>\n",
       "      <td>84.500000</td>\n",
       "    </tr>\n",
       "    <tr>\n",
       "      <th>75%</th>\n",
       "      <td>6.25000</td>\n",
       "      <td>18.250000</td>\n",
       "      <td>3.850000</td>\n",
       "      <td>95.750000</td>\n",
       "      <td>90.250000</td>\n",
       "      <td>92.250000</td>\n",
       "    </tr>\n",
       "    <tr>\n",
       "      <th>max</th>\n",
       "      <td>8.00000</td>\n",
       "      <td>19.000000</td>\n",
       "      <td>4.200000</td>\n",
       "      <td>99.000000</td>\n",
       "      <td>95.000000</td>\n",
       "      <td>95.000000</td>\n",
       "    </tr>\n",
       "  </tbody>\n",
       "</table>\n",
       "</div>"
      ],
      "text/plain": [
       "            ID        Age  Study_Hours  Attendance(%)  Marks_Math  \\\n",
       "count  8.00000   8.000000     8.000000       8.000000    8.000000   \n",
       "mean   4.50000  17.875000     2.812500      85.750000   80.250000   \n",
       "std    2.44949   0.834523     1.227585      12.781124   12.892412   \n",
       "min    1.00000  17.000000     1.000000      65.000000   60.000000   \n",
       "25%    2.75000  17.000000     1.875000      79.000000   72.500000   \n",
       "50%    4.50000  18.000000     3.000000      88.500000   83.000000   \n",
       "75%    6.25000  18.250000     3.850000      95.750000   90.250000   \n",
       "max    8.00000  19.000000     4.200000      99.000000   95.000000   \n",
       "\n",
       "       Marks_Science  \n",
       "count       8.000000  \n",
       "mean       81.250000  \n",
       "std        13.413746  \n",
       "min        58.000000  \n",
       "25%        73.250000  \n",
       "50%        84.500000  \n",
       "75%        92.250000  \n",
       "max        95.000000  "
      ]
     },
     "execution_count": 4,
     "metadata": {},
     "output_type": "execute_result"
    }
   ],
   "source": [
    "df.describe()"
   ]
  },
  {
   "cell_type": "code",
   "execution_count": 6,
   "id": "b2908705-140f-4507-9823-f71be88e9ed4",
   "metadata": {},
   "outputs": [
    {
     "data": {
      "text/plain": [
       "17.875"
      ]
     },
     "execution_count": 6,
     "metadata": {},
     "output_type": "execute_result"
    }
   ],
   "source": [
    "d=df[\"Age\"].mean()\n",
    "d\n"
   ]
  },
  {
   "cell_type": "code",
   "execution_count": null,
   "id": "5b2dc451-2ec3-4138-9408-1b96b2e51d6a",
   "metadata": {},
   "outputs": [],
   "source": []
  }
 ],
 "metadata": {
  "kernelspec": {
   "display_name": "Python 3 (ipykernel)",
   "language": "python",
   "name": "python3"
  },
  "language_info": {
   "codemirror_mode": {
    "name": "ipython",
    "version": 3
   },
   "file_extension": ".py",
   "mimetype": "text/x-python",
   "name": "python",
   "nbconvert_exporter": "python",
   "pygments_lexer": "ipython3",
   "version": "3.12.4"
  }
 },
 "nbformat": 4,
 "nbformat_minor": 5
}
