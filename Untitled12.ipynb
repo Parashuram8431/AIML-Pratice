{
 "cells": [
  {
   "cell_type": "code",
   "execution_count": 15,
   "id": "d2b8b61c-e2e2-4e8f-ad33-4ac336e64f15",
   "metadata": {},
   "outputs": [
    {
     "name": "stdout",
     "output_type": "stream",
     "text": [
      "   RollNO    Name  Age  Marks_Math  Marks_eng Gender\n",
      "0     101    riya   17          88         92      f\n",
      "1     102   Arjun   18          75         85      m\n",
      "2     103   Shena   17          90         78      f\n",
      "3     104  Rakesh   19          65         70      m\n",
      "4     105   Aditi   18          95         88      f\n"
     ]
    }
   ],
   "source": [
    "import pandas as pd\n",
    "import matplotlib.pyplot as plt\n",
    "import numpy as np\n",
    "Data={\n",
    "    \"RollNO\":[101,102,103,104,105],\n",
    "    \"Name\":[\"riya\",\"Arjun\",\"Shena\",\"Rakesh\",\"Aditi\"],\n",
    "    \"Age\":[17,18,17,19,18,],\n",
    "    \"Marks_Math\":[88,75,90,65,95],\n",
    "    \"Marks_eng\":[92,85,78,70,88],\n",
    "    \"Gender\":[\"f\",\"m\",\"f\",\"m\",\"f\"]\n",
    "}\n",
    "df=pd.DataFrame(Data)\n",
    "print(df)"
   ]
  },
  {
   "cell_type": "code",
   "execution_count": 16,
   "id": "4011289d-c332-4b85-903c-5371b4bc6677",
   "metadata": {},
   "outputs": [
    {
     "data": {
      "image/png": "[encoded data removed]",
      "text/plain": [
       "<Figure size 640x480 with 1 Axes>"
      ]
     },
     "metadata": {},
     "output_type": "display_data"
    }
   ],
   "source": [
    "plt.bar(df['Marks_Math'],df['RollNO'])\n",
    "plt.xlabel('Marks_Math')\n",
    "plt.ylabel('RollNO')\n",
    "plt.title('bar')\n",
    "plt.show()"
   ]
  },
  {
   "cell_type": "code",
   "execution_count": 17,
   "id": "d99ac2f3-044e-4316-944c-f57946090647",
   "metadata": {},
   "outputs": [
    {
     "data": {
      "text/plain": [
       "RollNO        0\n",
       "Name          0\n",
       "Age           0\n",
       "Marks_Math    0\n",
       "Marks_eng     0\n",
       "Gender        0\n",
       "dtype: int64"
      ]
     },
     "execution_count": 17,
     "metadata": {},
     "output_type": "execute_result"
    }
   ],
   "source": [
    "df.isnull().sum()"
   ]
  },
  {
   "cell_type": "code",
   "execution_count": 18,
   "id": "c12f1079-1aab-4991-aea1-985bdeb704c2",
   "metadata": {},
   "outputs": [
    {
     "data": {
      "image/png": "[encoded data removed]",
      "text/plain": [
       "<Figure size 640x480 with 1 Axes>"
      ]
     },
     "metadata": {},
     "output_type": "display_data"
    }
   ],
   "source": [
    "plt.hist(df['Marks_Math'])\n",
    "plt.title('RollNO ')\n",
    "plt.show()"
   ]
  },
  {
   "cell_type": "code",
   "execution_count": 19,
   "id": "b414102d-8d33-4724-852e-0ae151e9ad1f",
   "metadata": {},
   "outputs": [
    {
     "data": {
      "text/html": [
       "<div>\n",
       "<style scoped>\n",
       "    .dataframe tbody tr th:only-of-type {\n",
       "        vertical-align: middle;\n",
       "    }\n",
       "\n",
       "    .dataframe tbody tr th {\n",
       "        vertical-align: top;\n",
       "    }\n",
       "\n",
       "    .dataframe thead th {\n",
       "        text-align: right;\n",
       "    }\n",
       "</style>\n",
       "<table border=\"1\" class=\"dataframe\">\n",
       "  <thead>\n",
       "    <tr style=\"text-align: right;\">\n",
       "      <th></th>\n",
       "      <th>RollNO</th>\n",
       "      <th>Name</th>\n",
       "      <th>Age</th>\n",
       "      <th>Marks_Math</th>\n",
       "      <th>Marks_eng</th>\n",
       "      <th>Gender</th>\n",
       "    </tr>\n",
       "  </thead>\n",
       "  <tbody>\n",
       "    <tr>\n",
       "      <th>0</th>\n",
       "      <td>101</td>\n",
       "      <td>riya</td>\n",
       "      <td>17</td>\n",
       "      <td>88</td>\n",
       "      <td>92</td>\n",
       "      <td>f</td>\n",
       "    </tr>\n",
       "    <tr>\n",
       "      <th>1</th>\n",
       "      <td>102</td>\n",
       "      <td>Arjun</td>\n",
       "      <td>18</td>\n",
       "      <td>75</td>\n",
       "      <td>85</td>\n",
       "      <td>m</td>\n",
       "    </tr>\n",
       "    <tr>\n",
       "      <th>2</th>\n",
       "      <td>103</td>\n",
       "      <td>Shena</td>\n",
       "      <td>17</td>\n",
       "      <td>90</td>\n",
       "      <td>78</td>\n",
       "      <td>f</td>\n",
       "    </tr>\n",
       "    <tr>\n",
       "      <th>3</th>\n",
       "      <td>104</td>\n",
       "      <td>Rakesh</td>\n",
       "      <td>19</td>\n",
       "      <td>65</td>\n",
       "      <td>70</td>\n",
       "      <td>m</td>\n",
       "    </tr>\n",
       "    <tr>\n",
       "      <th>4</th>\n",
       "      <td>105</td>\n",
       "      <td>Aditi</td>\n",
       "      <td>18</td>\n",
       "      <td>95</td>\n",
       "      <td>88</td>\n",
       "      <td>f</td>\n",
       "    </tr>\n",
       "    <tr>\n",
       "      <th>5</th>\n",
       "      <td>12</td>\n",
       "      <td>ram</td>\n",
       "      <td>18</td>\n",
       "      <td>88</td>\n",
       "      <td>98</td>\n",
       "      <td>f</td>\n",
       "    </tr>\n",
       "    <tr>\n",
       "      <th>6</th>\n",
       "      <td>43</td>\n",
       "      <td>pavan</td>\n",
       "      <td>98</td>\n",
       "      <td>99</td>\n",
       "      <td>77</td>\n",
       "      <td>k</td>\n",
       "    </tr>\n",
       "  </tbody>\n",
       "</table>\n",
       "</div>"
      ],
      "text/plain": [
       "   RollNO    Name  Age  Marks_Math  Marks_eng Gender\n",
       "0     101    riya   17          88         92      f\n",
       "1     102   Arjun   18          75         85      m\n",
       "2     103   Shena   17          90         78      f\n",
       "3     104  Rakesh   19          65         70      m\n",
       "4     105   Aditi   18          95         88      f\n",
       "5      12     ram   18          88         98      f\n",
       "6      43   pavan   98          99         77      k"
      ]
     },
     "execution_count": 19,
     "metadata": {},
     "output_type": "execute_result"
    }
   ],
   "source": [
    "df.loc[len(df.index)]=[12,'ram',18,88,98,'f']\n",
    "df.loc[len(df.index)]=[43,'pavan',98,99,77,'k']\n",
    "df"
   ]
  },
  {
   "cell_type": "code",
   "execution_count": 23,
   "id": "81e5808c-25c0-450f-afa1-97ceabfdab7c",
   "metadata": {},
   "outputs": [
    {
     "ename": "NameError",
     "evalue": "name 'Marks_Hindi' is not defined",
     "output_type": "error",
     "traceback": [
      "\u001b[1;31m---------------------------------------------------------------------------\u001b[0m",
      "\u001b[1;31mNameError\u001b[0m                                 Traceback (most recent call last)",
      "Cell \u001b[1;32mIn[23], line 1\u001b[0m\n\u001b[1;32m----> 1\u001b[0m df[\u001b[38;5;124m\"\u001b[39m\u001b[38;5;124mMarks_Hindi\u001b[39m\u001b[38;5;124m\"\u001b[39m]\u001b[38;5;241m=\u001b[39mdf\u001b[38;5;241m.\u001b[39mapply( (Marks_Hindi))\n\u001b[0;32m      2\u001b[0m df[\u001b[38;5;124m\"\u001b[39m\u001b[38;5;124mResult\u001b[39m\u001b[38;5;124m\"\u001b[39m]\u001b[38;5;241m=\u001b[39mdf\u001b[38;5;241m.\u001b[39mapply(  (Result))\n\u001b[0;32m      3\u001b[0m \u001b[38;5;28mprint\u001b[39m(df)\n",
      "\u001b[1;31mNameError\u001b[0m: name 'Marks_Hindi' is not defined"
     ]
    }
   ],
   "source": [
    "df[\"Marks_Hindi\"]=df.apply( (Marks_Hindi))\n",
    "df[\"Result\"]=df.apply(  (Result))\n",
    "print(df)"
   ]
  },
  {
   "cell_type": "code",
   "execution_count": null,
   "id": "6a7e89db-683a-4c30-92dd-b09553fde392",
   "metadata": {},
   "outputs": [],
   "source": []
  }
 ],
 "metadata": {
  "kernelspec": {
   "display_name": "Python 3 (ipykernel)",
   "language": "python",
   "name": "python3"
  },
  "language_info": {
   "codemirror_mode": {
    "name": "ipython",
    "version": 3
   },
   "file_extension": ".py",
   "mimetype": "text/x-python",
   "name": "python",
   "nbconvert_exporter": "python",
   "pygments_lexer": "ipython3",
   "version": "3.12.4"
  }
 },
 "nbformat": 4,
 "nbformat_minor": 5
}
