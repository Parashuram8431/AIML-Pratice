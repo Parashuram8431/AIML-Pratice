{
 "cells": [
  {
   "cell_type": "code",
   "execution_count": 22,
   "id": "3b24beca-9a41-4499-b2f1-df9ac090d11c",
   "metadata": {},
   "outputs": [
    {
     "data": {
      "text/html": [
       "<div>\n",
       "<style scoped>\n",
       "    .dataframe tbody tr th:only-of-type {\n",
       "        vertical-align: middle;\n",
       "    }\n",
       "\n",
       "    .dataframe tbody tr th {\n",
       "        vertical-align: top;\n",
       "    }\n",
       "\n",
       "    .dataframe thead th {\n",
       "        text-align: right;\n",
       "    }\n",
       "</style>\n",
       "<table border=\"1\" class=\"dataframe\">\n",
       "  <thead>\n",
       "    <tr style=\"text-align: right;\">\n",
       "      <th></th>\n",
       "      <th>Date</th>\n",
       "      <th>Event</th>\n",
       "      <th>Cost</th>\n",
       "    </tr>\n",
       "  </thead>\n",
       "  <tbody>\n",
       "    <tr>\n",
       "      <th>0</th>\n",
       "      <td>6/7/25</td>\n",
       "      <td>shopping</td>\n",
       "      <td>2000</td>\n",
       "    </tr>\n",
       "    <tr>\n",
       "      <th>1</th>\n",
       "      <td>8/8/25</td>\n",
       "      <td>marketing</td>\n",
       "      <td>3000</td>\n",
       "    </tr>\n",
       "    <tr>\n",
       "      <th>2</th>\n",
       "      <td>12/6/25</td>\n",
       "      <td>frut saller</td>\n",
       "      <td>1400</td>\n",
       "    </tr>\n",
       "  </tbody>\n",
       "</table>\n",
       "</div>"
      ],
      "text/plain": [
       "      Date        Event  Cost\n",
       "0   6/7/25     shopping  2000\n",
       "1   8/8/25    marketing  3000\n",
       "2  12/6/25  frut saller  1400"
      ]
     },
     "execution_count": 22,
     "metadata": {},
     "output_type": "execute_result"
    }
   ],
   "source": [
    "import pandas as pd\n",
    "data={\n",
    "    \"Date\":['6/7/25','8/8/25','12/6/25'],\n",
    "    \"Event\":[\"shopping\",\"marketing\",\"frut saller\"],\n",
    "    \"Cost\":[2000,3000,1400]\n",
    "}\n",
    "df=pd.DataFrame(data)\n",
    "df\n"
   ]
  },
  {
   "cell_type": "markdown",
   "id": "c919afbd-e941-47c3-bfcf-0c4965a75a52",
   "metadata": {},
   "source": [
    "## ADDING  A TWO NEW COLUMN COUNT AND DISCOUNT"
   ]
  },
  {
   "cell_type": "code",
   "execution_count": 23,
   "id": "6c7cccfa-2fb7-4a7a-a74a-b4a8a0a193b4",
   "metadata": {},
   "outputs": [
    {
     "name": "stdout",
     "output_type": "stream",
     "text": [
      "      Date        Event  Cost  Discount_price  Discount\n",
      "0   6/7/25     shopping  2000          1800.0     200.0\n",
      "1   8/8/25    marketing  3000          2700.0     300.0\n",
      "2  12/6/25  frut saller  1400          1260.0     140.0\n"
     ]
    }
   ],
   "source": [
    "\n",
    "df[\"Discount_price\"]=df.apply(lambda row:row.Cost - (row.Cost*0.1),axis=1)\n",
    "df[\"Discount\"]=df.apply(lambda row:row.Cost - row.Discount_price,axis=1)\n",
    "print(df)"
   ]
  },
  {
   "cell_type": "markdown",
   "id": "5f24fd4a-b235-4903-afff-51a2ad921811",
   "metadata": {},
   "source": [
    "## ADD TWO MORE EVENTS DATA OBJECTS TO DATASET"
   ]
  },
  {
   "cell_type": "code",
   "execution_count": 24,
   "id": "d02dc4f8-6b1e-4010-8064-06eecfcdf8eb",
   "metadata": {},
   "outputs": [
    {
     "data": {
      "text/html": [
       "<div>\n",
       "<style scoped>\n",
       "    .dataframe tbody tr th:only-of-type {\n",
       "        vertical-align: middle;\n",
       "    }\n",
       "\n",
       "    .dataframe tbody tr th {\n",
       "        vertical-align: top;\n",
       "    }\n",
       "\n",
       "    .dataframe thead th {\n",
       "        text-align: right;\n",
       "    }\n",
       "</style>\n",
       "<table border=\"1\" class=\"dataframe\">\n",
       "  <thead>\n",
       "    <tr style=\"text-align: right;\">\n",
       "      <th></th>\n",
       "      <th>Date</th>\n",
       "      <th>Event</th>\n",
       "      <th>Cost</th>\n",
       "      <th>Discount_price</th>\n",
       "      <th>Discount</th>\n",
       "    </tr>\n",
       "  </thead>\n",
       "  <tbody>\n",
       "    <tr>\n",
       "      <th>0</th>\n",
       "      <td>6/7/25</td>\n",
       "      <td>shopping</td>\n",
       "      <td>2000</td>\n",
       "      <td>1800.0</td>\n",
       "      <td>200.0</td>\n",
       "    </tr>\n",
       "    <tr>\n",
       "      <th>1</th>\n",
       "      <td>8/8/25</td>\n",
       "      <td>marketing</td>\n",
       "      <td>3000</td>\n",
       "      <td>2700.0</td>\n",
       "      <td>300.0</td>\n",
       "    </tr>\n",
       "    <tr>\n",
       "      <th>2</th>\n",
       "      <td>12/6/25</td>\n",
       "      <td>frut saller</td>\n",
       "      <td>1400</td>\n",
       "      <td>1260.0</td>\n",
       "      <td>140.0</td>\n",
       "    </tr>\n",
       "    <tr>\n",
       "      <th>3</th>\n",
       "      <td>13/4/25</td>\n",
       "      <td>vegetables saller</td>\n",
       "      <td>4000</td>\n",
       "      <td>3000.0</td>\n",
       "      <td>1000.0</td>\n",
       "    </tr>\n",
       "    <tr>\n",
       "      <th>4</th>\n",
       "      <td>14/5/25</td>\n",
       "      <td>bookshop</td>\n",
       "      <td>400</td>\n",
       "      <td>350.0</td>\n",
       "      <td>150.0</td>\n",
       "    </tr>\n",
       "  </tbody>\n",
       "</table>\n",
       "</div>"
      ],
      "text/plain": [
       "      Date              Event  Cost  Discount_price  Discount\n",
       "0   6/7/25           shopping  2000          1800.0     200.0\n",
       "1   8/8/25          marketing  3000          2700.0     300.0\n",
       "2  12/6/25        frut saller  1400          1260.0     140.0\n",
       "3  13/4/25  vegetables saller  4000          3000.0    1000.0\n",
       "4  14/5/25           bookshop   400           350.0     150.0"
      ]
     },
     "execution_count": 24,
     "metadata": {},
     "output_type": "execute_result"
    }
   ],
   "source": [
    "df.loc[len(df.index)]=['13/4/25','vegetables saller',4000,3000,1000]\n",
    "df.loc[len(df.index)]=['14/5/25','bookshop',400,350,150]\n",
    "df"
   ]
  },
  {
   "cell_type": "markdown",
   "id": "69bf8e39-09ac-4b98-b3dd-c5890ac3f6c5",
   "metadata": {},
   "source": [
    "## MERGING THE  TWO FILE"
   ]
  },
  {
   "cell_type": "code",
   "execution_count": 17,
   "id": "3fca64bc-31d5-41de-8605-ac1db1c4a215",
   "metadata": {},
   "outputs": [
    {
     "data": {
      "text/html": [
       "<div>\n",
       "<style scoped>\n",
       "    .dataframe tbody tr th:only-of-type {\n",
       "        vertical-align: middle;\n",
       "    }\n",
       "\n",
       "    .dataframe tbody tr th {\n",
       "        vertical-align: top;\n",
       "    }\n",
       "\n",
       "    .dataframe thead th {\n",
       "        text-align: right;\n",
       "    }\n",
       "</style>\n",
       "<table border=\"1\" class=\"dataframe\">\n",
       "  <thead>\n",
       "    <tr style=\"text-align: right;\">\n",
       "      <th></th>\n",
       "      <th>Date</th>\n",
       "      <th>Event</th>\n",
       "      <th>Cost</th>\n",
       "    </tr>\n",
       "  </thead>\n",
       "  <tbody>\n",
       "    <tr>\n",
       "      <th>0</th>\n",
       "      <td>3/9/25</td>\n",
       "      <td>House rent</td>\n",
       "      <td>3000</td>\n",
       "    </tr>\n",
       "    <tr>\n",
       "      <th>1</th>\n",
       "      <td>5/1/25</td>\n",
       "      <td>Milk rate</td>\n",
       "      <td>300</td>\n",
       "    </tr>\n",
       "    <tr>\n",
       "      <th>2</th>\n",
       "      <td>11/7/25</td>\n",
       "      <td>water bill</td>\n",
       "      <td>140</td>\n",
       "    </tr>\n",
       "  </tbody>\n",
       "</table>\n",
       "</div>"
      ],
      "text/plain": [
       "      Date       Event  Cost\n",
       "0   3/9/25  House rent  3000\n",
       "1   5/1/25   Milk rate   300\n",
       "2  11/7/25  water bill   140"
      ]
     },
     "execution_count": 17,
     "metadata": {},
     "output_type": "execute_result"
    }
   ],
   "source": [
    "import pandas as pd\n",
    "data={\n",
    "    \"Date\":['3/9/25','5/1/25','11/7/25'],\n",
    "    \"Event\":[\"House rent\",\"Milk rate\",\"water bill\"],\n",
    "    \"Cost\":[3000,300,140]\n",
    "}\n",
    "df1=pd.DataFrame(data)\n",
    "df1"
   ]
  },
  {
   "cell_type": "code",
   "execution_count": null,
   "id": "a3627810-67e8-4d39-a187-101c29c0291a",
   "metadata": {},
   "outputs": [],
   "source": []
  }
 ],
 "metadata": {
  "kernelspec": {
   "display_name": "Python 3 (ipykernel)",
   "language": "python",
   "name": "python3"
  },
  "language_info": {
   "codemirror_mode": {
    "name": "ipython",
    "version": 3
   },
   "file_extension": ".py",
   "mimetype": "text/x-python",
   "name": "python",
   "nbconvert_exporter": "python",
   "pygments_lexer": "ipython3",
   "version": "3.12.4"
  }
 },
 "nbformat": 4,
 "nbformat_minor": 5
}
