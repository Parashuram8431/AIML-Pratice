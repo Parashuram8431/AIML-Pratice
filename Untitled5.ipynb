{
 "cells": [
  {
   "cell_type": "code",
   "execution_count": 3,
   "id": "f87e48ac-edea-4dc7-a396-fb3f7b2d5d58",
   "metadata": {},
   "outputs": [
    {
     "name": "stdout",
     "output_type": "stream",
     "text": [
      "   ename      type dept  exp  salary\n",
      "0    raj   regular   cs    2   10000\n",
      "1   rain     adhoc   ec    8   20000\n",
      "2  rahim  contract   ec    5    5000\n",
      "3   raja   regular   cs   10   15000\n"
     ]
    }
   ],
   "source": [
    "import matplotlib.pyplot as plt\n",
    "import pandas as pd\n",
    "import numpy as np\n",
    "data={\n",
    "    \"ename\":[\"raj\",\"rain\",\"rahim\",\"raja\"],\n",
    "    \"type\":[\"regular\",\"adhoc\",\"contract\",\"regular\"],\n",
    "    \"dept\":[\"cs\",\"ec\",\"ec\",\"cs\"],\n",
    "    \"exp\":[2,8,5,10],\n",
    "    \"salary\":[10000,20000,5000,15000]\n",
    "}\n",
    "df=pd.DataFrame(data)\n",
    "print(df)"
   ]
  },
  {
   "cell_type": "code",
   "execution_count": 8,
   "id": "e22fac9c-f724-41bd-a090-1e654c799b6f",
   "metadata": {},
   "outputs": [
    {
     "data": {
      "text/html": [
       "<div>\n",
       "<style scoped>\n",
       "    .dataframe tbody tr th:only-of-type {\n",
       "        vertical-align: middle;\n",
       "    }\n",
       "\n",
       "    .dataframe tbody tr th {\n",
       "        vertical-align: top;\n",
       "    }\n",
       "\n",
       "    .dataframe thead th {\n",
       "        text-align: right;\n",
       "    }\n",
       "</style>\n",
       "<table border=\"1\" class=\"dataframe\">\n",
       "  <thead>\n",
       "    <tr style=\"text-align: right;\">\n",
       "      <th></th>\n",
       "      <th>ename</th>\n",
       "      <th>type</th>\n",
       "      <th>dept</th>\n",
       "      <th>exp</th>\n",
       "      <th>salary</th>\n",
       "      <th>qulification</th>\n",
       "      <th>Qulification</th>\n",
       "    </tr>\n",
       "  </thead>\n",
       "  <tbody>\n",
       "    <tr>\n",
       "      <th>0</th>\n",
       "      <td>raj</td>\n",
       "      <td>regular</td>\n",
       "      <td>cs</td>\n",
       "      <td>2</td>\n",
       "      <td>10000</td>\n",
       "      <td>BE</td>\n",
       "      <td>BE</td>\n",
       "    </tr>\n",
       "    <tr>\n",
       "      <th>1</th>\n",
       "      <td>rain</td>\n",
       "      <td>adhoc</td>\n",
       "      <td>ec</td>\n",
       "      <td>8</td>\n",
       "      <td>20000</td>\n",
       "      <td>BCA</td>\n",
       "      <td>BCA</td>\n",
       "    </tr>\n",
       "    <tr>\n",
       "      <th>2</th>\n",
       "      <td>rahim</td>\n",
       "      <td>contract</td>\n",
       "      <td>ec</td>\n",
       "      <td>5</td>\n",
       "      <td>5000</td>\n",
       "      <td>DIPLOMA</td>\n",
       "      <td>DIPLOMA</td>\n",
       "    </tr>\n",
       "    <tr>\n",
       "      <th>3</th>\n",
       "      <td>raja</td>\n",
       "      <td>regular</td>\n",
       "      <td>cs</td>\n",
       "      <td>10</td>\n",
       "      <td>15000</td>\n",
       "      <td>BE</td>\n",
       "      <td>BE</td>\n",
       "    </tr>\n",
       "  </tbody>\n",
       "</table>\n",
       "</div>"
      ],
      "text/plain": [
       "   ename      type dept  exp  salary qulification Qulification\n",
       "0    raj   regular   cs    2   10000           BE           BE\n",
       "1   rain     adhoc   ec    8   20000          BCA          BCA\n",
       "2  rahim  contract   ec    5    5000      DIPLOMA      DIPLOMA\n",
       "3   raja   regular   cs   10   15000           BE           BE"
      ]
     },
     "execution_count": 8,
     "metadata": {},
     "output_type": "execute_result"
    }
   ],
   "source": [
    "\n",
    "df[\"qulification\"]=[\"BE\",\"BCA\",\"DIPLOMA\",\"BE\"]\n",
    "df"
   ]
  },
  {
   "cell_type": "code",
   "execution_count": 12,
   "id": "57fa554b-7370-4525-8b12-293a33261ec3",
   "metadata": {},
   "outputs": [
    {
     "data": {
      "text/html": [
       "<div>\n",
       "<style scoped>\n",
       "    .dataframe tbody tr th:only-of-type {\n",
       "        vertical-align: middle;\n",
       "    }\n",
       "\n",
       "    .dataframe tbody tr th {\n",
       "        vertical-align: top;\n",
       "    }\n",
       "\n",
       "    .dataframe thead th {\n",
       "        text-align: right;\n",
       "    }\n",
       "</style>\n",
       "<table border=\"1\" class=\"dataframe\">\n",
       "  <thead>\n",
       "    <tr style=\"text-align: right;\">\n",
       "      <th></th>\n",
       "      <th>ename</th>\n",
       "      <th>type</th>\n",
       "      <th>dept</th>\n",
       "      <th>exp</th>\n",
       "      <th>salary</th>\n",
       "      <th>qulification</th>\n",
       "      <th>Qulification</th>\n",
       "    </tr>\n",
       "  </thead>\n",
       "  <tbody>\n",
       "    <tr>\n",
       "      <th>0</th>\n",
       "      <td>raj</td>\n",
       "      <td>regular</td>\n",
       "      <td>cs</td>\n",
       "      <td>2</td>\n",
       "      <td>10000</td>\n",
       "      <td>BE</td>\n",
       "      <td>BE</td>\n",
       "    </tr>\n",
       "    <tr>\n",
       "      <th>1</th>\n",
       "      <td>rain</td>\n",
       "      <td>adhoc</td>\n",
       "      <td>ec</td>\n",
       "      <td>8</td>\n",
       "      <td>20000</td>\n",
       "      <td>BCA</td>\n",
       "      <td>BCA</td>\n",
       "    </tr>\n",
       "    <tr>\n",
       "      <th>2</th>\n",
       "      <td>rahim</td>\n",
       "      <td>contract</td>\n",
       "      <td>ec</td>\n",
       "      <td>5</td>\n",
       "      <td>5000</td>\n",
       "      <td>DIPLOMA</td>\n",
       "      <td>DIPLOMA</td>\n",
       "    </tr>\n",
       "    <tr>\n",
       "      <th>3</th>\n",
       "      <td>raja</td>\n",
       "      <td>regular</td>\n",
       "      <td>cs</td>\n",
       "      <td>10</td>\n",
       "      <td>15000</td>\n",
       "      <td>BE</td>\n",
       "      <td>BE</td>\n",
       "    </tr>\n",
       "    <tr>\n",
       "      <th>4</th>\n",
       "      <td>ravi</td>\n",
       "      <td>adhoc</td>\n",
       "      <td>ec</td>\n",
       "      <td>7</td>\n",
       "      <td>1200</td>\n",
       "      <td>SSLc</td>\n",
       "      <td>CC</td>\n",
       "    </tr>\n",
       "  </tbody>\n",
       "</table>\n",
       "</div>"
      ],
      "text/plain": [
       "   ename      type dept  exp  salary qulification Qulification\n",
       "0    raj   regular   cs    2   10000           BE           BE\n",
       "1   rain     adhoc   ec    8   20000          BCA          BCA\n",
       "2  rahim  contract   ec    5    5000      DIPLOMA      DIPLOMA\n",
       "3   raja   regular   cs   10   15000           BE           BE\n",
       "4   ravi     adhoc   ec    7    1200         SSLc           CC"
      ]
     },
     "execution_count": 12,
     "metadata": {},
     "output_type": "execute_result"
    }
   ],
   "source": [
    "df.loc[len(df.index)]=[\"ravi\",\"adhoc\",\"ec\",7,1200,\"SSLc\",\"CC\"]\n",
    "df"
   ]
  },
  {
   "cell_type": "code",
   "execution_count": 10,
   "id": "934d47b9-4892-4dd4-9a24-794bcc43e329",
   "metadata": {},
   "outputs": [
    {
     "ename": "TypeError",
     "evalue": "type() takes 1 or 3 arguments",
     "output_type": "error",
     "traceback": [
      "\u001b[1;31m---------------------------------------------------------------------------\u001b[0m",
      "\u001b[1;31mTypeError\u001b[0m                                 Traceback (most recent call last)",
      "Cell \u001b[1;32mIn[10], line 3\u001b[0m\n\u001b[0;32m      1\u001b[0m \u001b[38;5;28;01mimport\u001b[39;00m \u001b[38;5;21;01mmatplotlib\u001b[39;00m\u001b[38;5;21;01m.\u001b[39;00m\u001b[38;5;21;01mpyplot\u001b[39;00m \u001b[38;5;28;01mas\u001b[39;00m \u001b[38;5;21;01mplt\u001b[39;00m\n\u001b[0;32m      2\u001b[0m \u001b[38;5;28;01mimport\u001b[39;00m \u001b[38;5;21;01mpandas\u001b[39;00m \u001b[38;5;28;01mas\u001b[39;00m \u001b[38;5;21;01mps\u001b[39;00m\n\u001b[1;32m----> 3\u001b[0m x\u001b[38;5;241m=\u001b[39m\u001b[38;5;28mtype\u001b[39m()\n\u001b[0;32m      4\u001b[0m plt\u001b[38;5;241m.\u001b[39mbar()\n\u001b[0;32m      5\u001b[0m plt\u001b[38;5;241m.\u001b[39mshow()\n",
      "\u001b[1;31mTypeError\u001b[0m: type() takes 1 or 3 arguments"
     ]
    }
   ],
   "source": [
    "import matplotlib.pyplot as plt\n",
    "import pandas as ps\n",
    "x=type()\n",
    "plt.bar()\n",
    "plt.show()"
   ]
  },
  {
   "cell_type": "code",
   "execution_count": 15,
   "id": "e5e72d3c-1f26-4be9-8361-f53c412812d7",
   "metadata": {},
   "outputs": [
    {
     "ename": "SyntaxError",
     "evalue": "invalid syntax. Perhaps you forgot a comma? (3228350097.py, line 1)",
     "output_type": "error",
     "traceback": [
      "\u001b[1;36m  Cell \u001b[1;32mIn[15], line 1\u001b[1;36m\u001b[0m\n\u001b[1;33m    ename=salary.filter(lambda x:x>5000 True.salary)\u001b[0m\n\u001b[1;37m                                 ^\u001b[0m\n\u001b[1;31mSyntaxError\u001b[0m\u001b[1;31m:\u001b[0m invalid syntax. Perhaps you forgot a comma?\n"
     ]
    }
   ],
   "source": [
    "ename=salary.filter(lambda x:x>5000 True.salary)\n",
    "print(ename)"
   ]
  },
  {
   "cell_type": "code",
   "execution_count": null,
   "id": "eb5263a2-27a4-42d5-9741-4abca120551f",
   "metadata": {},
   "outputs": [],
   "source": []
  }
 ],
 "metadata": {
  "kernelspec": {
   "display_name": "Python 3 (ipykernel)",
   "language": "python",
   "name": "python3"
  },
  "language_info": {
   "codemirror_mode": {
    "name": "ipython",
    "version": 3
   },
   "file_extension": ".py",
   "mimetype": "text/x-python",
   "name": "python",
   "nbconvert_exporter": "python",
   "pygments_lexer": "ipython3",
   "version": "3.12.4"
  }
 },
 "nbformat": 4,
 "nbformat_minor": 5
}
