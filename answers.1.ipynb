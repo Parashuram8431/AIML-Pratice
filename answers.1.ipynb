{
 "cells": [
  {
   "cell_type": "markdown",
   "id": "2ee36a4a-4c54-4ba2-852d-88c739f4a3cf",
   "metadata": {},
   "source": [
    "1 Create DataFrame"
   ]
  },
  {
   "cell_type": "code",
   "execution_count": null,
   "id": "53e0809b-5a4c-45e3-a5ec-04de6e5570f4",
   "metadata": {},
   "outputs": [],
   "source": [
    "import pandas as pd\n",
    "import matplotlib.pyplot as plt\n",
    "import numpy as np\n",
    "Data={\n",
    "    \"RollNO\":[101,102,103,104,105],\n",
    "    \"Name\":[\"riya\",\"Arjun\",\"Shena\",\"Rakesh\",\"Aditi\"],\n",
    "    \"Age\":[17,18,17,19,18,],\n",
    "    \"Marks_Math\":[88,75,90,65,95],\n",
    "    \"Marks_eng\":[92,85,78,70,88],\n",
    "    \"Gender\":[\"f\",\"m\",\"f\",\"m\",\"f\"]\n",
    "}\n",
    "df=pd.DataFrame(Data)\n",
    "print(df)"
   ]
  },
  {
   "cell_type": "code",
   "execution_count": 5,
   "id": "023f7fb3-31b0-4adb-8406-6bb1dd60b693",
   "metadata": {},
   "outputs": [
    {
     "data": {
      "image/png": "[encoded data removed]",
      "text/plain": [
       "<Figure size 640x480 with 1 Axes>"
      ]
     },
     "metadata": {},
     "output_type": "display_data"
    }
   ],
   "source": [
    "plt.boxplot(df['Age'])\n",
    "plt.title('Boxplot of Age  ')\n",
    "plt.show()"
   ]
  },
  {
   "cell_type": "markdown",
   "id": "fe421090-257f-4825-a398-c3992bee1ec8",
   "metadata": {},
   "source": [
    "2 Display only the names and English marks of all student "
   ]
  },
  {
   "cell_type": "code",
   "execution_count": null,
   "id": "c931fb15-950a-4678-9f5d-dca72ac609dc",
   "metadata": {},
   "outputs": [],
   "source": [
    "df[\"Name\"],df[\"Marks_eng\"]"
   ]
  },
  {
   "cell_type": "markdown",
   "id": "acee62fb-fbff-400b-9b9d-0ee86a1fa45d",
   "metadata": {},
   "source": [
    "3. Add a new column \"Total marks\" as the sum of Marks_Math and Marks_eng"
   ]
  },
  {
   "cell_type": "code",
   "execution_count": null,
   "id": "228809ca-5ac5-41a0-a590-2a9839d74d44",
   "metadata": {},
   "outputs": [],
   "source": [
    "df[\"Total_Marks\"]=df[\"Marks_Math\"]+df[\"Marks_eng\"]\n",
    "df"
   ]
  },
  {
   "cell_type": "markdown",
   "id": "6ed4d273-1099-4f42-878e-57e1203a67c8",
   "metadata": {},
   "source": [
    "4. Find the average marks in math using a pandas function"
   ]
  },
  {
   "cell_type": "code",
   "execution_count": null,
   "id": "08eab2af-3634-4b00-8815-38af1f6541bb",
   "metadata": {},
   "outputs": [],
   "source": [
    "df['Marks_Math'].mean()"
   ]
  },
  {
   "cell_type": "markdown",
   "id": "edc22537-cd3a-43ae-8338-448354fda63d",
   "metadata": {},
   "source": [
    "5. Display the records of all female students,"
   ]
  },
  {
   "cell_type": "code",
   "execution_count": 5,
   "id": "5f32869c-55a4-4f7d-8c75-3bd4a601bc46",
   "metadata": {},
   "outputs": [
    {
     "name": "stdout",
     "output_type": "stream",
     "text": [
      "   RollNO   Name  Age  Marks_Math  Marks_eng Gender  total_Marks\n",
      "0     101   riya   17          88         92      f          180\n",
      "2     103  Shena   17          90         78      f          168\n",
      "4     105  Aditi   18          95         88      f          183\n"
     ]
    }
   ],
   "source": [
    "d=(df[df['Gender'] == 'f'])\n",
    "print(d)"
   ]
  },
  {
   "cell_type": "markdown",
   "id": "b85450dd-8b2e-4300-980f-6ed1fb24fb4d",
   "metadata": {},
   "source": [
    "6.Sort the DataFrame by Marks_english in desending order.\n"
   ]
  },
  {
   "cell_type": "code",
   "execution_count": 6,
   "id": "f6a8c374-92f8-4425-8b4d-a73d56254f68",
   "metadata": {},
   "outputs": [
    {
     "name": "stdout",
     "output_type": "stream",
     "text": [
      "4    95\n",
      "2    90\n",
      "0    88\n",
      "1    75\n",
      "3    65\n",
      "Name: Marks_Math, dtype: int64\n"
     ]
    }
   ],
   "source": [
    "sd=df[\"Marks_Math\"].sort_values(ascending=False)\n",
    "print(sd)"
   ]
  },
  {
   "cell_type": "markdown",
   "id": "ed5199c4-73ec-40a9-b0d7-a79139b808a8",
   "metadata": {},
   "source": [
    "7. Replace the Gender values:\"F\" \"Femele\",\"M\" \"Male\" using map()."
   ]
  },
  {
   "cell_type": "code",
   "execution_count": 7,
   "id": "c5803d69-aabd-4576-b305-85a40fcf4e60",
   "metadata": {},
   "outputs": [
    {
     "name": "stdout",
     "output_type": "stream",
     "text": [
      "0    Female\n",
      "1      Male\n",
      "2    Female\n",
      "3      Male\n",
      "4    Female\n",
      "Name: Gender, dtype: object\n"
     ]
    }
   ],
   "source": [
    "Gen=df[\"Gender\"].map({\"f\":\"Female\",\"m\":\"Male\"})\n",
    "print(Gen)"
   ]
  },
  {
   "cell_type": "markdown",
   "id": "af260bcf-ff34-41ef-b937-ac4cc725f715",
   "metadata": {},
   "source": [
    "8. ADD a new column Result with value \"Pass\" if Total_Marks>=150,else\"Fail\"\n",
    "   (Using apply()with lambda)."
   ]
  },
  {
   "cell_type": "code",
   "execution_count": 9,
   "id": "c65482b9-13de-47d5-90a1-3cbb826b3799",
   "metadata": {},
   "outputs": [
    {
     "name": "stdout",
     "output_type": "stream",
     "text": [
      "0    Pass\n",
      "1    Pass\n",
      "2    Pass\n",
      "3    Fail\n",
      "4    Pass\n",
      "Name: total_Marks, dtype: object\n"
     ]
    }
   ],
   "source": [
    "ge=df[\"total_Marks\"].apply(lambda x :\"Pass\" if x >=150 else 'Fail')\n",
    "print(ge)\n",
    "                           "
   ]
  },
  {
   "cell_type": "markdown",
   "id": "eeec8ac7-ddb7-49b4-a032-f55a7772b3ec",
   "metadata": {},
   "source": [
    "9. Use Map() to convert all names to upper case from the name column."
   ]
  },
  {
   "cell_type": "code",
   "execution_count": 11,
   "id": "2bba3b87-9a05-4ac9-bd99-51487c1b5f7c",
   "metadata": {},
   "outputs": [
    {
     "name": "stdout",
     "output_type": "stream",
     "text": [
      "0      RIYA\n",
      "1     ARJUN\n",
      "2     SHENA\n",
      "3    RAKESH\n",
      "4     ADITI\n",
      "Name: Name, dtype: object\n"
     ]
    }
   ],
   "source": [
    "na=df[\"Name\"].map(str.upper)\n",
    "print(na)"
   ]
  },
  {
   "cell_type": "markdown",
   "id": "babaff2d-2150-45b0-8b59-b8bc7be8c695",
   "metadata": {},
   "source": [
    "10. Use filter get list of students whose Marks_Math is grater then 80."
   ]
  },
  {
   "cell_type": "code",
   "execution_count": 6,
   "id": "cc2bcaed-93fb-40ff-a195-dc7176e8f835",
   "metadata": {},
   "outputs": [
    {
     "data": {
      "text/plain": [
       "[75, 65]"
      ]
     },
     "execution_count": 6,
     "metadata": {},
     "output_type": "execute_result"
    }
   ],
   "source": [
    "def get(a):\n",
    "    if a<80:\n",
    "        return True\n",
    "l1=df[\"Marks_Math\"]\n",
    "res=list(filter(get,l1))\n",
    "res\n",
    "        \n",
    "        "
   ]
  },
  {
   "cell_type": "markdown",
   "id": "4771566d-eea5-4727-8584-1269f9f941c2",
   "metadata": {},
   "source": [
    "11. Use lambda to create a new column."
   ]
  },
  {
   "cell_type": "code",
   "execution_count": 22,
   "id": "fd64b187-4836-40fc-809a-47229e5fa0e9",
   "metadata": {},
   "outputs": [
    {
     "name": "stdout",
     "output_type": "stream",
     "text": [
      "0    A\n",
      "1    c\n",
      "2    c\n",
      "3    c\n",
      "4    A\n",
      "Name: total_Marks, dtype: object\n"
     ]
    }
   ],
   "source": [
    "# 1) A if Total_Marks >170\n",
    "fd=df[\"Grade\"]=df[\"total_Marks\"].apply(lambda x: \"A\" if x >170 else \"c\")\n",
    "print(fd)"
   ]
  },
  {
   "cell_type": "code",
   "execution_count": 23,
   "id": "4b5d9815-0c2e-436a-9c89-9ed2272fe020",
   "metadata": {},
   "outputs": [
    {
     "name": "stdout",
     "output_type": "stream",
     "text": [
      "0    B\n",
      "1    B\n",
      "2    B\n",
      "3    c\n",
      "4    B\n",
      "Name: total_Marks, dtype: object\n"
     ]
    }
   ],
   "source": [
    "# 2) B if Total_Marks >150\n",
    "fg=df[\"Grade\"]=df[\"total_Marks\"].apply(lambda x:\"B\" if x >150 else \"c\")\n",
    "print(fg)"
   ]
  },
  {
   "cell_type": "markdown",
   "id": "e13c45d2-03e9-43cb-a5bc-dd49eee45867",
   "metadata": {},
   "source": [
    "12. Use reduce() to calculate the total of all Math marks."
   ]
  },
  {
   "cell_type": "code",
   "execution_count": 24,
   "id": "8fe36ba2-856d-4b90-a2a8-0c2b656873a1",
   "metadata": {},
   "outputs": [
    {
     "name": "stdout",
     "output_type": "stream",
     "text": [
      "413\n"
     ]
    }
   ],
   "source": [
    "from functools import reduce\n",
    "tm=reduce(lambda x,y: x + y,df[\"Marks_Math\"])\n",
    "print(tm)"
   ]
  },
  {
   "cell_type": "markdown",
   "id": "668aef27-a8d4-4b13-8f43-b2eebe798221",
   "metadata": {},
   "source": [
    "13.count how many students are the below the age of 18"
   ]
  },
  {
   "cell_type": "code",
   "execution_count": 25,
   "id": "dc30e8c2-9487-4ecf-8fca-ecbc4f9ec5ba",
   "metadata": {},
   "outputs": [
    {
     "name": "stdout",
     "output_type": "stream",
     "text": [
      "[17, 17]\n"
     ]
    }
   ],
   "source": [
    "def gef(a):\n",
    "    if a<18:\n",
    "        return True\n",
    "l1=(df[\"Age\"])\n",
    "res=list(filter(gef,l1))\n",
    "print(res)"
   ]
  },
  {
   "cell_type": "markdown",
   "id": "280bd175-180f-4229-9d98-b5ec357373fc",
   "metadata": {},
   "source": [
    "14.Create a new column average which gives average of both subjects."
   ]
  },
  {
   "cell_type": "code",
   "execution_count": 28,
   "id": "0a3f3bdf-6c3a-4e3b-8553-f2e870477a20",
   "metadata": {},
   "outputs": [
    {
     "name": "stdout",
     "output_type": "stream",
     "text": [
      "(82.6, 82.6)\n"
     ]
    }
   ],
   "source": [
    "Amith=df[\"Marks_Math\"].mean() ,df[\"Marks_eng\"].mean()\n",
    "print(Amith)"
   ]
  },
  {
   "cell_type": "markdown",
   "id": "5beaa4f6-c654-4611-8133-166ea3e47901",
   "metadata": {},
   "source": [
    "15. Display Name of students whose scored more in English than math."
   ]
  },
  {
   "cell_type": "code",
   "execution_count": 29,
   "id": "c691ad35-5622-460f-8d4f-348e186b6b78",
   "metadata": {},
   "outputs": [
    {
     "name": "stdout",
     "output_type": "stream",
     "text": [
      "0     True\n",
      "1     True\n",
      "2    False\n",
      "3     True\n",
      "4    False\n",
      "dtype: bool 0      riya\n",
      "1     Arjun\n",
      "2     Shena\n",
      "3    Rakesh\n",
      "4     Aditi\n",
      "Name: Name, dtype: object\n"
     ]
    }
   ],
   "source": [
    "mm=df[\"Marks_eng\"] > df[\"Marks_Math\"]\n",
    "print(mm,df[\"Name\"])"
   ]
  },
  {
   "cell_type": "markdown",
   "id": "0c6ad093-ff9c-4cac-99e0-e04bc3a88f4a",
   "metadata": {},
   "source": [
    "16. Group students by gender and calculate average marks for each gender."
   ]
  },
  {
   "cell_type": "code",
   "execution_count": 30,
   "id": "37516840-fcd9-4bf6-93a2-a8cacd0eda9a",
   "metadata": {},
   "outputs": [
    {
     "name": "stdout",
     "output_type": "stream",
     "text": [
      "        Marks_Math  Marks_eng  total_Marks\n",
      "Gender                                    \n",
      "f             91.0       86.0        177.0\n",
      "m             70.0       77.5        147.5\n"
     ]
    }
   ],
   "source": [
    "ag=df.groupby(\"Gender\")[['Marks_Math','Marks_eng',\"total_Marks\"]].mean()\n",
    "print(ag)"
   ]
  },
  {
   "cell_type": "markdown",
   "id": "cd3079c9-009b-4f0c-8b32-6d3da6073230",
   "metadata": {},
   "source": [
    "17.Find the students with the higest total marks using pandas"
   ]
  },
  {
   "cell_type": "code",
   "execution_count": 32,
   "id": "c9c22dd6-4855-4b59-ab4f-2a38f7c63ecd",
   "metadata": {},
   "outputs": [
    {
     "name": "stdout",
     "output_type": "stream",
     "text": [
      "RollNO           105\n",
      "Name           Aditi\n",
      "Age               18\n",
      "Marks_Math        95\n",
      "Marks_eng         88\n",
      "Gender             f\n",
      "total_Marks      183\n",
      "Grade              B\n",
      "Name: 4, dtype: object\n"
     ]
    }
   ],
   "source": [
    "st=df.loc[df[\"total_Marks\"].idxmax()]\n",
    "print(st)"
   ]
  },
  {
   "cell_type": "code",
   "execution_count": null,
   "id": "1de4c1cf-d170-40c7-825d-b859840d72a7",
   "metadata": {},
   "outputs": [],
   "source": []
  }
 ],
 "metadata": {
  "kernelspec": {
   "display_name": "Python 3 (ipykernel)",
   "language": "python",
   "name": "python3"
  },
  "language_info": {
   "codemirror_mode": {
    "name": "ipython",
    "version": 3
   },
   "file_extension": ".py",
   "mimetype": "text/x-python",
   "name": "python",
   "nbconvert_exporter": "python",
   "pygments_lexer": "ipython3",
   "version": "3.12.4"
  }
 },
 "nbformat": 4,
 "nbformat_minor": 5
}
