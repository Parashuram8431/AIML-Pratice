{
 "cells": [
  {
   "cell_type": "code",
   "execution_count": 2,
   "id": "cbbb53e5-5b78-4e4d-afef-9004b834c28e",
   "metadata": {},
   "outputs": [
    {
     "name": "stdout",
     "output_type": "stream",
     "text": [
      "Sum ias : 27\n"
     ]
    }
   ],
   "source": [
    "a=10\n",
    "b=17\n",
    "c=a+b\n",
    "print(\"Sum ias :\",c)"
   ]
  },
  {
   "cell_type": "code",
   "execution_count": null,
   "id": "a8e5f2d0-71cf-4b94-b508-d736eb76153f",
   "metadata": {},
   "outputs": [],
   "source": []
  }
 ],
 "metadata": {
  "kernelspec": {
   "display_name": "Python 3 (ipykernel)",
   "language": "python",
   "name": "python3"
  },
  "language_info": {
   "codemirror_mode": {
    "name": "ipython",
    "version": 3
   },
   "file_extension": ".py",
   "mimetype": "text/x-python",
   "name": "python",
   "nbconvert_exporter": "python",
   "pygments_lexer": "ipython3",
   "version": "3.12.4"
  }
 },
 "nbformat": 4,
 "nbformat_minor": 5
}
