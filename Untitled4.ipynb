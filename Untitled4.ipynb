{
 "cells": [
  {
   "cell_type": "markdown",
   "id": "2ee36a4a-4c54-4ba2-852d-88c739f4a3cf",
   "metadata": {},
   "source": [
    "1 Create DataFrame"
   ]
  },
  {
   "cell_type": "code",
   "execution_count": 3,
   "id": "53e0809b-5a4c-45e3-a5ec-04de6e5570f4",
   "metadata": {},
   "outputs": [
    {
     "name": "stdout",
     "output_type": "stream",
     "text": [
      "   RollNO    Name  Age  Marks_Math  Marks_eng Gender\n",
      "0     101    riya   17          88         92      f\n",
      "1     102   Arjun   18          75         85      m\n",
      "2     103   Shena   17          90         78      f\n",
      "3     104  Rakesh   19          65         70      m\n",
      "4     105   Aditi   18          95         88      f\n"
     ]
    }
   ],
   "source": [
    "import pandas as pd\n",
    "import matplotlib.pyplot as plt\n",
    "import numpy as np\n",
    "Data={\n",
    "    \"RollNO\":[101,102,103,104,105],\n",
    "    \"Name\":[\"riya\",\"Arjun\",\"Shena\",\"Rakesh\",\"Aditi\"],\n",
    "    \"Age\":[17,18,17,19,18,],\n",
    "    \"Marks_Math\":[88,75,90,65,95],\n",
    "    \"Marks_eng\":[92,85,78,70,88],\n",
    "    \"Gender\":[\"f\",\"m\",\"f\",\"m\",\"f\"]\n",
    "}\n",
    "df=pd.DataFrame(Data)\n",
    "print(df)"
   ]
  },
  {
   "cell_type": "markdown",
   "id": "fe421090-257f-4825-a398-c3992bee1ec8",
   "metadata": {},
   "source": [
    "2 Display only the names and English marks of all student "
   ]
  },
  {
   "cell_type": "code",
   "execution_count": 4,
   "id": "c931fb15-950a-4678-9f5d-dca72ac609dc",
   "metadata": {},
   "outputs": [
    {
     "data": {
      "text/plain": [
       "(0      riya\n",
       " 1     Arjun\n",
       " 2     Shena\n",
       " 3    Rakesh\n",
       " 4     Aditi\n",
       " Name: Name, dtype: object,\n",
       " 0    92\n",
       " 1    85\n",
       " 2    78\n",
       " 3    70\n",
       " 4    88\n",
       " Name: Marks_eng, dtype: int64)"
      ]
     },
     "execution_count": 4,
     "metadata": {},
     "output_type": "execute_result"
    }
   ],
   "source": [
    "df[\"Name\"],df[\"Marks_eng\"]"
   ]
  },
  {
   "cell_type": "markdown",
   "id": "acee62fb-fbff-400b-9b9d-0ee86a1fa45d",
   "metadata": {},
   "source": [
    "3. Add a new column \"Total marks\" as the sum of Marks_Math and Marks_eng"
   ]
  },
  {
   "cell_type": "code",
   "execution_count": 5,
   "id": "228809ca-5ac5-41a0-a590-2a9839d74d44",
   "metadata": {},
   "outputs": [
    {
     "name": "stdout",
     "output_type": "stream",
     "text": [
      "   RollNO    Name  Age  Marks_Math  Marks_eng Gender  total_Marks\n",
      "0     101    riya   17          88         92      f          180\n",
      "1     102   Arjun   18          75         85      m          160\n",
      "2     103   Shena   17          90         78      f          168\n",
      "3     104  Rakesh   19          65         70      m          135\n",
      "4     105   Aditi   18          95         88      f          183\n"
     ]
    }
   ],
   "source": [
    "df[\"total_Marks\"]=df['Marks_Math']+df['Marks_eng']\n",
    "print(df)\n",
    "df[\"total_Marks\"]=df[['Marks_Math','Marks_eng']].sum(axis=1)\n",
    "df"
   ]
  },
  {
   "cell_type": "markdown",
   "id": "6ed4d273-1099-4f42-878e-57e1203a67c8",
   "metadata": {},
   "source": [
    "4. Find the average marks in math using a pandas function"
   ]
  },
  {
   "cell_type": "code",
   "execution_count": 7,
   "id": "08eab2af-3634-4b00-8815-38af1f6541bb",
   "metadata": {},
   "outputs": [
    {
     "data": {
      "text/plain": [
       "82.6"
      ]
     },
     "execution_count": 7,
     "metadata": {},
     "output_type": "execute_result"
    }
   ],
   "source": [
    "df['Marks_Math'].mean()\n"
   ]
  },
  {
   "cell_type": "markdown",
   "id": "edc22537-cd3a-43ae-8338-448354fda63d",
   "metadata": {},
   "source": [
    "5. Display the records of all female students,"
   ]
  },
  {
   "cell_type": "code",
   "execution_count": 9,
   "id": "5f32869c-55a4-4f7d-8c75-3bd4a601bc46",
   "metadata": {},
   "outputs": [
    {
     "name": "stdout",
     "output_type": "stream",
     "text": [
      "   RollNO   Name  Age  Marks_Math  Marks_eng Gender  total_Marks\n",
      "0     101   riya   17          88         92      f          180\n",
      "2     103  Shena   17          90         78      f          168\n",
      "4     105  Aditi   18          95         88      f          183\n"
     ]
    }
   ],
   "source": [
    "d=(df[df['Gender'] == 'f'])\n",
    "print(d)"
   ]
  },
  {
   "cell_type": "markdown",
   "id": "b85450dd-8b2e-4300-980f-6ed1fb24fb4d",
   "metadata": {},
   "source": [
    "6.Sort the DataFrame by Marks_english in desending order.\n"
   ]
  },
  {
   "cell_type": "code",
   "execution_count": 12,
   "id": "f6a8c374-92f8-4425-8b4d-a73d56254f68",
   "metadata": {},
   "outputs": [
    {
     "name": "stdout",
     "output_type": "stream",
     "text": [
      "4    95\n",
      "2    90\n",
      "0    88\n",
      "1    75\n",
      "3    65\n",
      "Name: Marks_Math, dtype: int64\n"
     ]
    }
   ],
   "source": [
    "sd=df[\"Marks_Math\"].sort_values(ascending=False)\n",
    "print(sd)"
   ]
  },
  {
   "cell_type": "markdown",
   "id": "ed5199c4-73ec-40a9-b0d7-a79139b808a8",
   "metadata": {},
   "source": [
    "7. Replace the Gender values:\"F\" \"Femele\",\"M\" \"Male\" using map()."
   ]
  },
  {
   "cell_type": "code",
   "execution_count": 13,
   "id": "c5803d69-aabd-4576-b305-85a40fcf4e60",
   "metadata": {},
   "outputs": [
    {
     "ename": "SyntaxError",
     "evalue": "invalid syntax (666497633.py, line 1)",
     "output_type": "error",
     "traceback": [
      "\u001b[1;36m  Cell \u001b[1;32mIn[13], line 1\u001b[1;36m\u001b[0m\n\u001b[1;33m    Gen=df[\"Gender\"] map({\"f\":\"Femele\",\"m\":\"Male\"})\u001b[0m\n\u001b[1;37m                     ^\u001b[0m\n\u001b[1;31mSyntaxError\u001b[0m\u001b[1;31m:\u001b[0m invalid syntax\n"
     ]
    }
   ],
   "source": [
    "Gen=df[\"Gender\"] map({\"f\":\"Femele\",\"m\":\"Male\"})\n",
    "Gen"
   ]
  },
  {
   "cell_type": "code",
   "execution_count": null,
   "id": "8c6f3b5e-ac48-4a1b-a183-4188dbbd40e6",
   "metadata": {},
   "outputs": [],
   "source": []
  }
 ],
 "metadata": {
  "kernelspec": {
   "display_name": "Python 3 (ipykernel)",
   "language": "python",
   "name": "python3"
  },
  "language_info": {
   "codemirror_mode": {
    "name": "ipython",
    "version": 3
   },
   "file_extension": ".py",
   "mimetype": "text/x-python",
   "name": "python",
   "nbconvert_exporter": "python",
   "pygments_lexer": "ipython3",
   "version": "3.12.4"
  }
 },
 "nbformat": 4,
 "nbformat_minor": 5
}
