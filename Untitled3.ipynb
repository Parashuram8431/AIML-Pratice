{
 "cells": [
  {
   "cell_type": "code",
   "execution_count": 12,
   "id": "c14ab7aa-aaf4-408a-81e3-e8ebf6794eae",
   "metadata": {},
   "outputs": [
    {
     "name": "stdout",
     "output_type": "stream",
     "text": [
      "   ID    Name Gender  Age  Study_Hours  Attendance(%)  Marks_Math  \\\n",
      "0   1    riya      f   17          3.5             95          88   \n",
      "1   2   Arjun      m   18          2.0             82          75   \n",
      "2   3   Shena      f   17          4.0             98          90   \n",
      "3   4  Rakesh      m   19          1.5             70          65   \n",
      "4   5   Aditi      f   18          3.8             92          95   \n",
      "5   6   Kiran      m   18          2.5             85          78   \n",
      "6   7  Anjali      f   17          4.2             99          91   \n",
      "7   8  manish      m   19          1.0             65          60   \n",
      "\n",
      "   Marks_Science Grade  \n",
      "0             92     A  \n",
      "1             80     B  \n",
      "2             89     A  \n",
      "3             68     C  \n",
      "4             93     A  \n",
      "5             75     B  \n",
      "6             95     A  \n",
      "7             58     D  \n"
     ]
    }
   ],
   "source": [
    "import matplotlib.pyplot as plt\n",
    "import numpy as np\n",
    "import pandas as pd\n",
    "\n",
    "data={\n",
    "    \"ID\":[1,2,3,4,5,6,7,8],\n",
    "    \"Name\":[\"riya\",\"Arjun\",\"Shena\",\"Rakesh\",\"Aditi\",\"Kiran\",\"Anjali\",\"manish\"],\n",
    "    \"Gender\":[\"f\",\"m\",\"f\",\"m\",\"f\",\"m\",\"f\",\"m\"],\n",
    "    \"Age\":[17,18,17,19,18,18,17,19],\n",
    "    \"Study_Hours\":[3.5,2.0,4.0,1.5,3.8,2.5,4.2,1.0],\n",
    "    \"Attendance(%)\":[95,82,98,70,92,85,99,65],\n",
    "    \"Marks_Math\":[88,75,90,65,95,78,91,60],\n",
    "    \"Marks_Science\":[92,80,89,68,93,75,95,58],\n",
    "    \"Grade\":[\"A\",\"B\",\"A\",\"C\",\"A\",\"B\",\"A\",\"D\"]\n",
    "}\n",
    "df=pd.DataFrame(data)\n",
    "print(df)"
   ]
  },
  {
   "cell_type": "code",
   "execution_count": 13,
   "id": "04aa4f2c-aa52-43a4-b362-d6014206ef3b",
   "metadata": {},
   "outputs": [
    {
     "data": {
      "text/html": [
       "<div>\n",
       "<style scoped>\n",
       "    .dataframe tbody tr th:only-of-type {\n",
       "        vertical-align: middle;\n",
       "    }\n",
       "\n",
       "    .dataframe tbody tr th {\n",
       "        vertical-align: top;\n",
       "    }\n",
       "\n",
       "    .dataframe thead th {\n",
       "        text-align: right;\n",
       "    }\n",
       "</style>\n",
       "<table border=\"1\" class=\"dataframe\">\n",
       "  <thead>\n",
       "    <tr style=\"text-align: right;\">\n",
       "      <th></th>\n",
       "      <th>ID</th>\n",
       "      <th>Name</th>\n",
       "      <th>Gender</th>\n",
       "      <th>Age</th>\n",
       "      <th>Study_Hours</th>\n",
       "      <th>Attendance(%)</th>\n",
       "      <th>Marks_Math</th>\n",
       "      <th>Marks_Science</th>\n",
       "      <th>Grade</th>\n",
       "    </tr>\n",
       "  </thead>\n",
       "  <tbody>\n",
       "    <tr>\n",
       "      <th>0</th>\n",
       "      <td>1</td>\n",
       "      <td>riya</td>\n",
       "      <td>f</td>\n",
       "      <td>17</td>\n",
       "      <td>3.5</td>\n",
       "      <td>95</td>\n",
       "      <td>88</td>\n",
       "      <td>92</td>\n",
       "      <td>A</td>\n",
       "    </tr>\n",
       "    <tr>\n",
       "      <th>1</th>\n",
       "      <td>2</td>\n",
       "      <td>Arjun</td>\n",
       "      <td>m</td>\n",
       "      <td>18</td>\n",
       "      <td>2.0</td>\n",
       "      <td>82</td>\n",
       "      <td>75</td>\n",
       "      <td>80</td>\n",
       "      <td>B</td>\n",
       "    </tr>\n",
       "    <tr>\n",
       "      <th>2</th>\n",
       "      <td>3</td>\n",
       "      <td>Shena</td>\n",
       "      <td>f</td>\n",
       "      <td>17</td>\n",
       "      <td>4.0</td>\n",
       "      <td>98</td>\n",
       "      <td>90</td>\n",
       "      <td>89</td>\n",
       "      <td>A</td>\n",
       "    </tr>\n",
       "    <tr>\n",
       "      <th>3</th>\n",
       "      <td>4</td>\n",
       "      <td>Rakesh</td>\n",
       "      <td>m</td>\n",
       "      <td>19</td>\n",
       "      <td>1.5</td>\n",
       "      <td>70</td>\n",
       "      <td>65</td>\n",
       "      <td>68</td>\n",
       "      <td>C</td>\n",
       "    </tr>\n",
       "    <tr>\n",
       "      <th>4</th>\n",
       "      <td>5</td>\n",
       "      <td>Aditi</td>\n",
       "      <td>f</td>\n",
       "      <td>18</td>\n",
       "      <td>3.8</td>\n",
       "      <td>92</td>\n",
       "      <td>95</td>\n",
       "      <td>93</td>\n",
       "      <td>A</td>\n",
       "    </tr>\n",
       "  </tbody>\n",
       "</table>\n",
       "</div>"
      ],
      "text/plain": [
       "   ID    Name Gender  Age  Study_Hours  Attendance(%)  Marks_Math  \\\n",
       "0   1    riya      f   17          3.5             95          88   \n",
       "1   2   Arjun      m   18          2.0             82          75   \n",
       "2   3   Shena      f   17          4.0             98          90   \n",
       "3   4  Rakesh      m   19          1.5             70          65   \n",
       "4   5   Aditi      f   18          3.8             92          95   \n",
       "\n",
       "   Marks_Science Grade  \n",
       "0             92     A  \n",
       "1             80     B  \n",
       "2             89     A  \n",
       "3             68     C  \n",
       "4             93     A  "
      ]
     },
     "execution_count": 13,
     "metadata": {},
     "output_type": "execute_result"
    }
   ],
   "source": [
    "df.head()"
   ]
  },
  {
   "cell_type": "code",
   "execution_count": 14,
   "id": "80d4147b-f93c-45bc-ad89-31bc95997723",
   "metadata": {},
   "outputs": [
    {
     "data": {
      "image/png": "[encoded data removed]",
      "text/plain": [
       "<Figure size 640x480 with 1 Axes>"
      ]
     },
     "metadata": {},
     "output_type": "display_data"
    }
   ],
   "source": [
    "plt.hist(df[\"Marks_Math\"])\n",
    "plt.xlabel(\"Study_Hours\")\n",
    "plt.ylabel(\"Marks_Math\")\n",
    "plt.title(\"Marks_Math\")\n",
    "plt.show()"
   ]
  },
  {
   "cell_type": "code",
   "execution_count": 17,
   "id": "d0cd5b6c-e1e5-4c73-a784-f4c4f98540fc",
   "metadata": {},
   "outputs": [
    {
     "data": {
      "image/png": "[encoded data removed]",
      "text/plain": [
       "<Figure size 640x480 with 1 Axes>"
      ]
     },
     "metadata": {},
     "output_type": "display_data"
    }
   ],
   "source": [
    "import matplotlib.pyplot as plt\n",
    "import numpy as np\n",
    "x=np.array([\"riya\",\"Arjun\",\"Shena\",\"Rakesh\",\"Aditi\",\"Kiran\",\"Anjali\",\"Manish\"])\n",
    "y=np.array([\"A\",\"B\",\"A\",\"C\",\"A\",\"B\",\"A\",\"D\"])\n",
    "plt.bar(\"Name\",\"Grade\")\n",
    "plt.show()"
   ]
  },
  {
   "cell_type": "code",
   "execution_count": null,
   "id": "feb6ef44-230f-41e0-b529-05eccdc26a33",
   "metadata": {},
   "outputs": [],
   "source": []
  }
 ],
 "metadata": {
  "kernelspec": {
   "display_name": "Python 3 (ipykernel)",
   "language": "python",
   "name": "python3"
  },
  "language_info": {
   "codemirror_mode": {
    "name": "ipython",
    "version": 3
   },
   "file_extension": ".py",
   "mimetype": "text/x-python",
   "name": "python",
   "nbconvert_exporter": "python",
   "pygments_lexer": "ipython3",
   "version": "3.12.4"
  }
 },
 "nbformat": 4,
 "nbformat_minor": 5
}
