{
 "cells": [
  {
   "cell_type": "markdown",
   "id": "4bb62a44-9cc5-4fb2-91e6-e860298a4e00",
   "metadata": {},
   "source": [
    "1)Here given the bating statistics of indian grate cricketer Anil Kumble.Perform the following opreation\n"
   ]
  },
  {
   "cell_type": "code",
   "execution_count": 4,
   "id": "14249c1d-a68e-4358-9332-1e835ef2e5ff",
   "metadata": {},
   "outputs": [
    {
     "name": "stdout",
     "output_type": "stream",
     "text": [
      "   matchs  year  runs  balls opponent\n",
      "0       1  1996    10     20      AUS\n",
      "1       2  1997    23     30      ENG\n",
      "2       3  1998    15     25      PAK\n",
      "3       4  1999    40     20       SA\n",
      "4       5  2000    12     11      ENG\n"
     ]
    }
   ],
   "source": [
    "import pandas as pd\n",
    "import matplotlib.pyplot as plt\n",
    "from datetime import datetime\n",
    "data={\n",
    "    \"matchs\":[1,2,3,4,5],\n",
    "    \"year\":[1996,1997,1998,1999,2000],\n",
    "    \"runs\":[10,23,15,40,12],\n",
    "    \"balls\":[20,30,25,20,11],\n",
    "    \"opponent\":[\"AUS\",\"ENG\",\"PAK\",\"SA\",\"ENG\"]\n",
    "}\n",
    "df=pd.DataFrame(data)\n",
    "print(df)"
   ]
  },
  {
   "cell_type": "markdown",
   "id": "36c96155-f132-4fb9-b7c5-0bf7c0238ac5",
   "metadata": {},
   "source": [
    "A) Aggregation\n"
   ]
  },
  {
   "cell_type": "code",
   "execution_count": 5,
   "id": "db0b6fc0-ed37-4d9b-9225-7efddc3d7979",
   "metadata": {},
   "outputs": [
    {
     "name": "stdout",
     "output_type": "stream",
     "text": [
      "total runs is : 100\n"
     ]
    }
   ],
   "source": [
    "#1)\n",
    "t_runs=(df['runs'].sum())\n",
    "print(\"total runs is :\",t_runs)\n",
    "\n"
   ]
  },
  {
   "cell_type": "code",
   "execution_count": null,
   "id": "0e88d7f7-07e6-486c-8b64-5c226725b860",
   "metadata": {},
   "outputs": [],
   "source": []
  },
  {
   "cell_type": "code",
   "execution_count": 6,
   "id": "32ee5cbc-e0cb-4301-968b-9ed9bc888502",
   "metadata": {},
   "outputs": [
    {
     "name": "stdout",
     "output_type": "stream",
     "text": [
      "runs means is : 20.0\n"
     ]
    }
   ],
   "source": [
    "#2)\n",
    "me_runs=(df['runs'].mean())\n",
    "print(\"runs means is :\",me_runs)\n"
   ]
  },
  {
   "cell_type": "code",
   "execution_count": 7,
   "id": "0a54f46a-53f4-4568-8094-f56e7debf99e",
   "metadata": {},
   "outputs": [
    {
     "name": "stdout",
     "output_type": "stream",
     "text": [
      "maximum runs is : 40\n"
     ]
    }
   ],
   "source": [
    "# 3)\n",
    "max=(df['runs'].max())\n",
    "print(\"maximum runs is :\",max)\n",
    "\n"
   ]
  },
  {
   "cell_type": "code",
   "execution_count": 8,
   "id": "56102233-91eb-495f-ad02-2a7e4fbe282f",
   "metadata": {},
   "outputs": [
    {
     "name": "stdout",
     "output_type": "stream",
     "text": [
      "minimum runs is : 10\n"
     ]
    }
   ],
   "source": [
    "# 4)\n",
    "min=(df['runs'].min())\n",
    "print(\"minimum runs is :\",min)\n"
   ]
  },
  {
   "cell_type": "markdown",
   "id": "d5288f15-59d5-429e-950f-0a74af7d2db0",
   "metadata": {},
   "source": [
    "B) Grouping"
   ]
  },
  {
   "cell_type": "code",
   "execution_count": 1,
   "id": "5f7d7fa9-c7e3-4a43-8ecb-b88e709d974c",
   "metadata": {},
   "outputs": [
    {
     "ename": "SyntaxError",
     "evalue": "unterminated string literal (detected at line 1) (4180302685.py, line 1)",
     "output_type": "error",
     "traceback": [
      "\u001b[1;36m  Cell \u001b[1;32mIn[1], line 1\u001b[1;36m\u001b[0m\n\u001b[1;33m    gr=df.groupby(\"opponent')['runs'].sum()\u001b[0m\n\u001b[1;37m                  ^\u001b[0m\n\u001b[1;31mSyntaxError\u001b[0m\u001b[1;31m:\u001b[0m unterminated string literal (detected at line 1)\n"
     ]
    }
   ],
   "source": [
    "gr=df.groupby(\"opponent')['runs'].sum()\n",
    "gr"
   ]
  },
  {
   "cell_type": "markdown",
   "id": "b0e84312-073b-4e51-9a75-ea88bc2e048e",
   "metadata": {},
   "source": [
    "C) Time Series"
   ]
  },
  {
   "cell_type": "code",
   "execution_count": 11,
   "id": "d4c84032-2754-45ce-a3ea-229e022e2c92",
   "metadata": {},
   "outputs": [
    {
     "name": "stdout",
     "output_type": "stream",
     "text": [
      "DatetimeIndex(['1997-01-31', '1997-02-28', '1997-03-31', '1997-04-30',\n",
      "               '1997-05-31', '1997-06-30', '1997-07-31', '1997-08-31',\n",
      "               '1997-09-30', '1997-10-31', '1997-11-30', '1997-12-31',\n",
      "               '1998-01-31', '1998-02-28', '1998-03-31', '1998-04-30',\n",
      "               '1998-05-31', '1998-06-30', '1998-07-31', '1998-08-31',\n",
      "               '1998-09-30', '1998-10-31', '1998-11-30', '1998-12-31',\n",
      "               '1999-01-31', '1999-02-28', '1999-03-31', '1999-04-30',\n",
      "               '1999-05-31', '1999-06-30', '1999-07-31', '1999-08-31',\n",
      "               '1999-09-30', '1999-10-31', '1999-11-30', '1999-12-31'],\n",
      "              dtype='datetime64[ns]', freq='ME')\n"
     ]
    },
    {
     "name": "stderr",
     "output_type": "stream",
     "text": [
      "C:\\Users\\aishwarya m\\AppData\\Local\\Temp\\ipykernel_9476\\292535933.py:1: FutureWarning: 'm' is deprecated and will be removed in a future version, please use 'ME' instead.\n",
      "  rd=pd.date_range(start='01/01/1997',end='01/02/2000',freq='m')\n"
     ]
    }
   ],
   "source": [
    "rd=pd.date_range(start='01/01/1997',end='01/02/2000',freq='m')\n",
    "print(rd)"
   ]
  },
  {
   "cell_type": "markdown",
   "id": "101bad5d-a3a3-4c89-afae-27e572f4a3b8",
   "metadata": {},
   "source": [
    "D) Filter"
   ]
  },
  {
   "cell_type": "code",
   "execution_count": 12,
   "id": "9b7ac668-664a-463e-ba13-a0584fa7c077",
   "metadata": {},
   "outputs": [
    {
     "name": "stdout",
     "output_type": "stream",
     "text": [
      "[23, 40]\n"
     ]
    }
   ],
   "source": [
    "def fil(a):\n",
    "    if a> 15:\n",
    "        return True\n",
    "l1=(df['runs'])\n",
    "res=list(filter(fil,l1))\n",
    "print(res)"
   ]
  },
  {
   "cell_type": "markdown",
   "id": "13b89ec9-b2d4-46bf-bd4a-878847a5a3a3",
   "metadata": {},
   "source": [
    "E) Vectorized"
   ]
  },
  {
   "cell_type": "markdown",
   "id": "09a3ae21-8200-45f2-bfac-9a0de152fc07",
   "metadata": {},
   "source": [
    "# map function"
   ]
  },
  {
   "cell_type": "code",
   "execution_count": 14,
   "id": "5505a1fe-a4e3-458d-8f0f-8246eeaf6e31",
   "metadata": {},
   "outputs": [
    {
     "name": "stdout",
     "output_type": "stream",
     "text": [
      "[20, 46, 30, 80, 24]\n"
     ]
    }
   ],
   "source": [
    "def ker(a):\n",
    "    return a*2\n",
    "l1=(df['runs'])\n",
    "res=list(map(ker,l1))\n",
    "print(res)\n"
   ]
  },
  {
   "cell_type": "markdown",
   "id": "ad831707-7ba5-4173-8fc7-2af32f7499ad",
   "metadata": {},
   "source": [
    "3) Create a Two series as shown using pd.series()function.\n",
    "Series_A=[20,30,40,50,60]\n",
    "Series_B=[50,60,70,80,90]"
   ]
  },
  {
   "cell_type": "code",
   "execution_count": 16,
   "id": "cee5b634-b657-48b6-bba8-19eba1712e4c",
   "metadata": {},
   "outputs": [
    {
     "name": "stdout",
     "output_type": "stream",
     "text": [
      "   series_A  Series_B\n",
      "0        20        50\n",
      "1        30        60\n",
      "2        40        70\n",
      "3        50        80\n",
      "4        60        90\n"
     ]
    }
   ],
   "source": [
    "data={\n",
    "    \"series_A\":[20,30,40,50,60],\n",
    "    \"Series_B\":[50,60,70,80,90]\n",
    "}\n",
    "df=pd.DataFrame(data)\n",
    "print(df)"
   ]
  },
  {
   "cell_type": "markdown",
   "id": "a60316e9-fbab-415d-b883-495a83cfb341",
   "metadata": {},
   "source": [
    "A) Get the items not comman to both."
   ]
  },
  {
   "cell_type": "code",
   "execution_count": 17,
   "id": "e09994e7-393a-4826-a4c2-0b040d102f4a",
   "metadata": {},
   "outputs": [
    {
     "data": {
      "text/plain": [
       "series_A    0\n",
       "Series_B    0\n",
       "dtype: int64"
      ]
     },
     "execution_count": 17,
     "metadata": {},
     "output_type": "execute_result"
    }
   ],
   "source": [
    "df.isnull().sum()\n"
   ]
  },
  {
   "cell_type": "markdown",
   "id": "7994301e-c939-4a2f-964c-7bf2fceab939",
   "metadata": {},
   "source": [
    "B) Identify the smallest and largrst element in the Series A.\n"
   ]
  },
  {
   "cell_type": "markdown",
   "id": "50281838-318e-4047-a7be-73951f5a0116",
   "metadata": {},
   "source": [
    "##  smallest element of series A "
   ]
  },
  {
   "cell_type": "code",
   "execution_count": 19,
   "id": "6f6f6177-1e2f-4af3-b8a1-0ff7ebac75b9",
   "metadata": {},
   "outputs": [
    {
     "name": "stdout",
     "output_type": "stream",
     "text": [
      "20\n"
     ]
    }
   ],
   "source": [
    "sml=(df['series_A'].min())\n",
    "print(sml)"
   ]
  },
  {
   "cell_type": "code",
   "execution_count": 20,
   "id": "f3b29bcc-b886-4de9-9f4c-3273e0dca6d6",
   "metadata": {},
   "outputs": [],
   "source": [
    "# largest elelemnt of series A"
   ]
  },
  {
   "cell_type": "code",
   "execution_count": 21,
   "id": "cfb7792a-52af-4bbe-8e73-f49f05bc9c21",
   "metadata": {},
   "outputs": [
    {
     "name": "stdout",
     "output_type": "stream",
     "text": [
      "60\n"
     ]
    }
   ],
   "source": [
    "lar=(df['series_A'].max())\n",
    "print(lar)"
   ]
  },
  {
   "cell_type": "markdown",
   "id": "3e38c925-8132-45db-a4ad-5df36caf6228",
   "metadata": {},
   "source": [
    "C) Find the sum of series B"
   ]
  },
  {
   "cell_type": "code",
   "execution_count": 22,
   "id": "89f6096d-67b4-445f-9a30-4a25550746eb",
   "metadata": {},
   "outputs": [
    {
     "name": "stdout",
     "output_type": "stream",
     "text": [
      "sum of series B is: 350\n"
     ]
    }
   ],
   "source": [
    "sum=(df['Series_B'].sum())\n",
    "print(\"sum of series B is:\",sum)\n"
   ]
  },
  {
   "cell_type": "markdown",
   "id": "00f85ca1-eeb4-4d0d-9c6a-347746937b2d",
   "metadata": {},
   "source": [
    "E) calculate mean in the series A."
   ]
  },
  {
   "cell_type": "code",
   "execution_count": 23,
   "id": "a6f070e9-e554-4684-8641-b09450b77dec",
   "metadata": {},
   "outputs": [
    {
     "name": "stdout",
     "output_type": "stream",
     "text": [
      "mean of series A is : 40.0\n"
     ]
    }
   ],
   "source": [
    "men=(df['series_A'].mean())\n",
    "print(\"mean of series A is :\",men)\n"
   ]
  },
  {
   "cell_type": "markdown",
   "id": "202bdf1c-dbbf-4acf-90f7-93120d2e0d8e",
   "metadata": {},
   "source": [
    "F) Find the median in the given series A."
   ]
  },
  {
   "cell_type": "code",
   "execution_count": 26,
   "id": "981c419a-214e-444f-a194-14fd9c4b8c8c",
   "metadata": {},
   "outputs": [
    {
     "name": "stdout",
     "output_type": "stream",
     "text": [
      "median of Series A is : 70.0\n"
     ]
    }
   ],
   "source": [
    "med=(df['Series_B'].median())\n",
    "print(\"median of Series A is :\",med)"
   ]
  },
  {
   "cell_type": "code",
   "execution_count": null,
   "id": "cd271cb8-d735-4b10-b08d-0217e3aa230f",
   "metadata": {},
   "outputs": [],
   "source": [
    "4) perform the foll"
   ]
  },
  {
   "cell_type": "code",
   "execution_count": 4,
   "id": "36560641-61bf-4c79-a4d7-29d474ca39a3",
   "metadata": {},
   "outputs": [
    {
     "ename": "NameError",
     "evalue": "name 'AS' is not defined",
     "output_type": "error",
     "traceback": [
      "\u001b[1;31m---------------------------------------------------------------------------\u001b[0m",
      "\u001b[1;31mNameError\u001b[0m                                 Traceback (most recent call last)",
      "Cell \u001b[1;32mIn[4], line 1\u001b[0m\n\u001b[1;32m----> 1\u001b[0m df\u001b[38;5;241m.\u001b[39mloc[\u001b[38;5;28mlen\u001b[39m(df\u001b[38;5;241m.\u001b[39mindex)]\u001b[38;5;241m=\u001b[39m[\u001b[38;5;241m6\u001b[39m,\u001b[38;5;241m2002\u001b[39m,\u001b[38;5;241m12\u001b[39m,\u001b[38;5;241m32\u001b[39m,AS]\n\u001b[0;32m      2\u001b[0m df\u001b[38;5;241m.\u001b[39mloc[\u001b[38;5;28mlen\u001b[39m(df\u001b[38;5;241m.\u001b[39mindex)]\u001b[38;5;241m=\u001b[39m[\u001b[38;5;241m8\u001b[39m,\u001b[38;5;241m2306\u001b[39m,\u001b[38;5;241m34\u001b[39m,\u001b[38;5;241m12\u001b[39m,MP]\n\u001b[0;32m      3\u001b[0m df\n",
      "\u001b[1;31mNameError\u001b[0m: name 'AS' is not defined"
     ]
    }
   ],
   "source": [
    "df.loc[len(df.index)]=[6,2002,12,32,AS]\n",
    "df.loc[len(df.index)]=[8,2306,34,12,MP]\n",
    "df"
   ]
  },
  {
   "cell_type": "code",
   "execution_count": null,
   "id": "732b493b-effb-430d-a4ff-39927ba489e9",
   "metadata": {},
   "outputs": [],
   "source": []
  }
 ],
 "metadata": {
  "kernelspec": {
   "display_name": "Python 3 (ipykernel)",
   "language": "python",
   "name": "python3"
  },
  "language_info": {
   "codemirror_mode": {
    "name": "ipython",
    "version": 3
   },
   "file_extension": ".py",
   "mimetype": "text/x-python",
   "name": "python",
   "nbconvert_exporter": "python",
   "pygments_lexer": "ipython3",
   "version": "3.12.4"
  }
 },
 "nbformat": 4,
 "nbformat_minor": 5
}
